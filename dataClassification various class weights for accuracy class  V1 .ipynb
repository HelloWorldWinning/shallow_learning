{
 "cells": [
  {
   "cell_type": "code",
   "execution_count": 1,
   "metadata": {
    "collapsed": false
   },
   "outputs": [],
   "source": [
    "from zplot import zplot,zplot_ud\n",
    "from zdata import Stock_indicators_x\n",
    "import pandas as pd\n",
    "import numpy as np\n",
    "\n",
    "import plotly.plotly as py\n",
    "# py.sign_in('pjl88209', 'a0hVGm4ROxyhXEXlVY5m')\n",
    "\n",
    "\n",
    "import plotly.tools as tls\n",
    "import cufflinks as cf\n",
    "\n",
    "# print (cf.__version__)"
   ]
  },
  {
   "cell_type": "code",
   "execution_count": 2,
   "metadata": {
    "collapsed": false,
    "scrolled": true
   },
   "outputs": [
    {
     "data": {
      "text/plain": [
       "300"
      ]
     },
     "execution_count": 2,
     "metadata": {},
     "output_type": "execute_result"
    }
   ],
   "source": [
    "\n",
    "len(index_components('000300.XSHG'))"
   ]
  },
  {
   "cell_type": "code",
   "execution_count": 3,
   "metadata": {
    "collapsed": false,
    "scrolled": true
   },
   "outputs": [
    {
     "data": {
      "text/plain": [
       "830"
      ]
     },
     "execution_count": 3,
     "metadata": {},
     "output_type": "execute_result"
    }
   ],
   "source": [
    "\n",
    "len(index_components('399101.XSHE'))"
   ]
  },
  {
   "cell_type": "code",
   "execution_count": 4,
   "metadata": {
    "collapsed": false
   },
   "outputs": [
    {
     "data": {
      "text/plain": [
       "100"
      ]
     },
     "execution_count": 4,
     "metadata": {},
     "output_type": "execute_result"
    }
   ],
   "source": [
    "\n",
    "len(index_components('399004.XSHE'))"
   ]
  },
  {
   "cell_type": "code",
   "execution_count": 5,
   "metadata": {
    "collapsed": false
   },
   "outputs": [
    {
     "data": {
      "text/plain": [
       "100"
      ]
     },
     "execution_count": 5,
     "metadata": {},
     "output_type": "execute_result"
    }
   ],
   "source": [
    "len(index_components('399005.XSHE'))"
   ]
  },
  {
   "cell_type": "code",
   "execution_count": 6,
   "metadata": {
    "collapsed": false
   },
   "outputs": [
    {
     "data": {
      "text/plain": [
       "100"
      ]
     },
     "execution_count": 6,
     "metadata": {},
     "output_type": "execute_result"
    }
   ],
   "source": [
    "st=index_components('399004.XSHE')\n",
    "len(index_components('399004.XSHE'))\n"
   ]
  },
  {
   "cell_type": "code",
   "execution_count": 7,
   "metadata": {
    "collapsed": false,
    "scrolled": true
   },
   "outputs": [
    {
     "data": {
      "text/html": [
       "<div>\n",
       "<table border=\"1\" class=\"dataframe\">\n",
       "  <thead>\n",
       "    <tr style=\"text-align: right;\">\n",
       "      <th></th>\n",
       "      <th>abbrev_symbol</th>\n",
       "      <th>de_listed_date</th>\n",
       "      <th>exchange</th>\n",
       "      <th>listed_date</th>\n",
       "      <th>order_book_id</th>\n",
       "      <th>round_lot</th>\n",
       "      <th>symbol</th>\n",
       "      <th>type</th>\n",
       "    </tr>\n",
       "  </thead>\n",
       "  <tbody>\n",
       "    <tr>\n",
       "      <th>396</th>\n",
       "      <td>ZXBR</td>\n",
       "      <td>0000-00-00</td>\n",
       "      <td>XSHE</td>\n",
       "      <td>2006-12-27</td>\n",
       "      <td>399333.XSHE</td>\n",
       "      <td>1.0</td>\n",
       "      <td>中小板R</td>\n",
       "      <td>INDX</td>\n",
       "    </tr>\n",
       "    <tr>\n",
       "      <th>578</th>\n",
       "      <td>ZXBZ</td>\n",
       "      <td>0000-00-00</td>\n",
       "      <td>XSHE</td>\n",
       "      <td>2006-01-24</td>\n",
       "      <td>399005.XSHE</td>\n",
       "      <td>1.0</td>\n",
       "      <td>中小板指</td>\n",
       "      <td>INDX</td>\n",
       "    </tr>\n",
       "    <tr>\n",
       "      <th>601</th>\n",
       "      <td>ZXBZZ</td>\n",
       "      <td>0000-00-00</td>\n",
       "      <td>XSHE</td>\n",
       "      <td>2005-12-01</td>\n",
       "      <td>399101.XSHE</td>\n",
       "      <td>1.0</td>\n",
       "      <td>中小板综指</td>\n",
       "      <td>INDX</td>\n",
       "    </tr>\n",
       "    <tr>\n",
       "      <th>645</th>\n",
       "      <td>ZXBEW</td>\n",
       "      <td>0000-00-00</td>\n",
       "      <td>XSHE</td>\n",
       "      <td>2011-10-28</td>\n",
       "      <td>399634.XSHE</td>\n",
       "      <td>1.0</td>\n",
       "      <td>中小板EW</td>\n",
       "      <td>INDX</td>\n",
       "    </tr>\n",
       "  </tbody>\n",
       "</table>\n",
       "</div>"
      ],
      "text/plain": [
       "    abbrev_symbol de_listed_date exchange listed_date order_book_id  \\\n",
       "396          ZXBR     0000-00-00     XSHE  2006-12-27   399333.XSHE   \n",
       "578          ZXBZ     0000-00-00     XSHE  2006-01-24   399005.XSHE   \n",
       "601         ZXBZZ     0000-00-00     XSHE  2005-12-01   399101.XSHE   \n",
       "645         ZXBEW     0000-00-00     XSHE  2011-10-28   399634.XSHE   \n",
       "\n",
       "     round_lot symbol  type  \n",
       "396        1.0   中小板R  INDX  \n",
       "578        1.0   中小板指  INDX  \n",
       "601        1.0  中小板综指  INDX  \n",
       "645        1.0  中小板EW  INDX  "
      ]
     },
     "execution_count": 7,
     "metadata": {},
     "output_type": "execute_result"
    }
   ],
   "source": [
    "mask=all_instruments('INDX')['symbol'].str.contains('中小板')\n",
    "x=all_instruments('INDX')[mask]\n",
    "x"
   ]
  },
  {
   "cell_type": "code",
   "execution_count": 8,
   "metadata": {
    "collapsed": false,
    "scrolled": false
   },
   "outputs": [
    {
     "data": {
      "text/html": [
       "<div>\n",
       "<table border=\"1\" class=\"dataframe\">\n",
       "  <thead>\n",
       "    <tr style=\"text-align: right;\">\n",
       "      <th></th>\n",
       "      <th>abbrev_symbol</th>\n",
       "      <th>de_listed_date</th>\n",
       "      <th>exchange</th>\n",
       "      <th>listed_date</th>\n",
       "      <th>order_book_id</th>\n",
       "      <th>round_lot</th>\n",
       "      <th>symbol</th>\n",
       "      <th>type</th>\n",
       "    </tr>\n",
       "  </thead>\n",
       "  <tbody>\n",
       "    <tr>\n",
       "      <th>396</th>\n",
       "      <td>ZXBR</td>\n",
       "      <td>0000-00-00</td>\n",
       "      <td>XSHE</td>\n",
       "      <td>2006-12-27</td>\n",
       "      <td>399333.XSHE</td>\n",
       "      <td>1.0</td>\n",
       "      <td>中小板R</td>\n",
       "      <td>INDX</td>\n",
       "    </tr>\n",
       "    <tr>\n",
       "      <th>578</th>\n",
       "      <td>ZXBZ</td>\n",
       "      <td>0000-00-00</td>\n",
       "      <td>XSHE</td>\n",
       "      <td>2006-01-24</td>\n",
       "      <td>399005.XSHE</td>\n",
       "      <td>1.0</td>\n",
       "      <td>中小板指</td>\n",
       "      <td>INDX</td>\n",
       "    </tr>\n",
       "    <tr>\n",
       "      <th>601</th>\n",
       "      <td>ZXBZZ</td>\n",
       "      <td>0000-00-00</td>\n",
       "      <td>XSHE</td>\n",
       "      <td>2005-12-01</td>\n",
       "      <td>399101.XSHE</td>\n",
       "      <td>1.0</td>\n",
       "      <td>中小板综指</td>\n",
       "      <td>INDX</td>\n",
       "    </tr>\n",
       "    <tr>\n",
       "      <th>645</th>\n",
       "      <td>ZXBEW</td>\n",
       "      <td>0000-00-00</td>\n",
       "      <td>XSHE</td>\n",
       "      <td>2011-10-28</td>\n",
       "      <td>399634.XSHE</td>\n",
       "      <td>1.0</td>\n",
       "      <td>中小板EW</td>\n",
       "      <td>INDX</td>\n",
       "    </tr>\n",
       "  </tbody>\n",
       "</table>\n",
       "</div>"
      ],
      "text/plain": [
       "    abbrev_symbol de_listed_date exchange listed_date order_book_id  \\\n",
       "396          ZXBR     0000-00-00     XSHE  2006-12-27   399333.XSHE   \n",
       "578          ZXBZ     0000-00-00     XSHE  2006-01-24   399005.XSHE   \n",
       "601         ZXBZZ     0000-00-00     XSHE  2005-12-01   399101.XSHE   \n",
       "645         ZXBEW     0000-00-00     XSHE  2011-10-28   399634.XSHE   \n",
       "\n",
       "     round_lot symbol  type  \n",
       "396        1.0   中小板R  INDX  \n",
       "578        1.0   中小板指  INDX  \n",
       "601        1.0  中小板综指  INDX  \n",
       "645        1.0  中小板EW  INDX  "
      ]
     },
     "execution_count": 8,
     "metadata": {},
     "output_type": "execute_result"
    }
   ],
   "source": [
    "mask=all_instruments('INDX')['symbol'].str.contains('中小板')\n",
    "all_instruments('INDX')[mask]"
   ]
  },
  {
   "cell_type": "code",
   "execution_count": 9,
   "metadata": {
    "collapsed": false,
    "scrolled": true
   },
   "outputs": [
    {
     "data": {
      "text/html": [
       "<div>\n",
       "<table border=\"1\" class=\"dataframe\">\n",
       "  <thead>\n",
       "    <tr style=\"text-align: right;\">\n",
       "      <th></th>\n",
       "      <th>order_book_id</th>\n",
       "    </tr>\n",
       "  </thead>\n",
       "  <tbody>\n",
       "    <tr>\n",
       "      <th>0</th>\n",
       "      <td>399333.XSHE</td>\n",
       "    </tr>\n",
       "    <tr>\n",
       "      <th>1</th>\n",
       "      <td>399005.XSHE</td>\n",
       "    </tr>\n",
       "  </tbody>\n",
       "</table>\n",
       "</div>"
      ],
      "text/plain": [
       "  order_book_id\n",
       "0   399333.XSHE\n",
       "1   399005.XSHE"
      ]
     },
     "execution_count": 9,
     "metadata": {},
     "output_type": "execute_result"
    }
   ],
   "source": [
    "li=['399333.XSHE','399005.XSHE']\n",
    "li=pd.DataFrame(li,columns=['order_book_id'])\n",
    "li"
   ]
  },
  {
   "cell_type": "code",
   "execution_count": 10,
   "metadata": {
    "collapsed": false
   },
   "outputs": [
    {
     "data": {
      "text/html": [
       "<div>\n",
       "<table border=\"1\" class=\"dataframe\">\n",
       "  <thead>\n",
       "    <tr style=\"text-align: right;\">\n",
       "      <th></th>\n",
       "      <th>abbrev_symbol</th>\n",
       "      <th>de_listed_date</th>\n",
       "      <th>exchange</th>\n",
       "      <th>listed_date</th>\n",
       "      <th>order_book_id</th>\n",
       "      <th>round_lot</th>\n",
       "      <th>symbol</th>\n",
       "      <th>type</th>\n",
       "    </tr>\n",
       "  </thead>\n",
       "  <tbody>\n",
       "    <tr>\n",
       "      <th>0</th>\n",
       "      <td>ZXBR</td>\n",
       "      <td>0000-00-00</td>\n",
       "      <td>XSHE</td>\n",
       "      <td>2006-12-27</td>\n",
       "      <td>399333.XSHE</td>\n",
       "      <td>1.0</td>\n",
       "      <td>中小板R</td>\n",
       "      <td>INDX</td>\n",
       "    </tr>\n",
       "    <tr>\n",
       "      <th>1</th>\n",
       "      <td>ZXBZ</td>\n",
       "      <td>0000-00-00</td>\n",
       "      <td>XSHE</td>\n",
       "      <td>2006-01-24</td>\n",
       "      <td>399005.XSHE</td>\n",
       "      <td>1.0</td>\n",
       "      <td>中小板指</td>\n",
       "      <td>INDX</td>\n",
       "    </tr>\n",
       "  </tbody>\n",
       "</table>\n",
       "</div>"
      ],
      "text/plain": [
       "  abbrev_symbol de_listed_date exchange listed_date order_book_id  round_lot  \\\n",
       "0          ZXBR     0000-00-00     XSHE  2006-12-27   399333.XSHE        1.0   \n",
       "1          ZXBZ     0000-00-00     XSHE  2006-01-24   399005.XSHE        1.0   \n",
       "\n",
       "  symbol  type  \n",
       "0   中小板R  INDX  \n",
       "1   中小板指  INDX  "
      ]
     },
     "execution_count": 10,
     "metadata": {},
     "output_type": "execute_result"
    }
   ],
   "source": [
    "x.merge(li)"
   ]
  },
  {
   "cell_type": "code",
   "execution_count": 11,
   "metadata": {
    "collapsed": false
   },
   "outputs": [
    {
     "data": {
      "text/html": [
       "<div>\n",
       "<table border=\"1\" class=\"dataframe\">\n",
       "  <thead>\n",
       "    <tr style=\"text-align: right;\">\n",
       "      <th></th>\n",
       "      <th>abbrev_symbol</th>\n",
       "      <th>de_listed_date</th>\n",
       "      <th>exchange</th>\n",
       "      <th>listed_date</th>\n",
       "      <th>order_book_id</th>\n",
       "      <th>round_lot</th>\n",
       "      <th>symbol</th>\n",
       "      <th>type</th>\n",
       "    </tr>\n",
       "  </thead>\n",
       "  <tbody>\n",
       "    <tr>\n",
       "      <th>396</th>\n",
       "      <td>ZXBR</td>\n",
       "      <td>0000-00-00</td>\n",
       "      <td>XSHE</td>\n",
       "      <td>2006-12-27</td>\n",
       "      <td>399333.XSHE</td>\n",
       "      <td>1.0</td>\n",
       "      <td>中小板R</td>\n",
       "      <td>INDX</td>\n",
       "    </tr>\n",
       "    <tr>\n",
       "      <th>578</th>\n",
       "      <td>ZXBZ</td>\n",
       "      <td>0000-00-00</td>\n",
       "      <td>XSHE</td>\n",
       "      <td>2006-01-24</td>\n",
       "      <td>399005.XSHE</td>\n",
       "      <td>1.0</td>\n",
       "      <td>中小板指</td>\n",
       "      <td>INDX</td>\n",
       "    </tr>\n",
       "    <tr>\n",
       "      <th>601</th>\n",
       "      <td>ZXBZZ</td>\n",
       "      <td>0000-00-00</td>\n",
       "      <td>XSHE</td>\n",
       "      <td>2005-12-01</td>\n",
       "      <td>399101.XSHE</td>\n",
       "      <td>1.0</td>\n",
       "      <td>中小板综指</td>\n",
       "      <td>INDX</td>\n",
       "    </tr>\n",
       "    <tr>\n",
       "      <th>645</th>\n",
       "      <td>ZXBEW</td>\n",
       "      <td>0000-00-00</td>\n",
       "      <td>XSHE</td>\n",
       "      <td>2011-10-28</td>\n",
       "      <td>399634.XSHE</td>\n",
       "      <td>1.0</td>\n",
       "      <td>中小板EW</td>\n",
       "      <td>INDX</td>\n",
       "    </tr>\n",
       "  </tbody>\n",
       "</table>\n",
       "</div>"
      ],
      "text/plain": [
       "    abbrev_symbol de_listed_date exchange listed_date order_book_id  \\\n",
       "396          ZXBR     0000-00-00     XSHE  2006-12-27   399333.XSHE   \n",
       "578          ZXBZ     0000-00-00     XSHE  2006-01-24   399005.XSHE   \n",
       "601         ZXBZZ     0000-00-00     XSHE  2005-12-01   399101.XSHE   \n",
       "645         ZXBEW     0000-00-00     XSHE  2011-10-28   399634.XSHE   \n",
       "\n",
       "     round_lot symbol  type  \n",
       "396        1.0   中小板R  INDX  \n",
       "578        1.0   中小板指  INDX  \n",
       "601        1.0  中小板综指  INDX  \n",
       "645        1.0  中小板EW  INDX  "
      ]
     },
     "execution_count": 11,
     "metadata": {},
     "output_type": "execute_result"
    }
   ],
   "source": [
    "x"
   ]
  },
  {
   "cell_type": "code",
   "execution_count": 12,
   "metadata": {
    "collapsed": false,
    "scrolled": false
   },
   "outputs": [
    {
     "data": {
      "text/html": [
       "<div>\n",
       "<table border=\"1\" class=\"dataframe\">\n",
       "  <thead>\n",
       "    <tr style=\"text-align: right;\">\n",
       "      <th></th>\n",
       "      <th>A</th>\n",
       "      <th>B</th>\n",
       "    </tr>\n",
       "  </thead>\n",
       "  <tbody>\n",
       "    <tr>\n",
       "      <th>0</th>\n",
       "      <td>0</td>\n",
       "      <td>1</td>\n",
       "    </tr>\n",
       "    <tr>\n",
       "      <th>1</th>\n",
       "      <td>2</td>\n",
       "      <td>3</td>\n",
       "    </tr>\n",
       "    <tr>\n",
       "      <th>2</th>\n",
       "      <td>4</td>\n",
       "      <td>5</td>\n",
       "    </tr>\n",
       "    <tr>\n",
       "      <th>3</th>\n",
       "      <td>6</td>\n",
       "      <td>7</td>\n",
       "    </tr>\n",
       "    <tr>\n",
       "      <th>4</th>\n",
       "      <td>8</td>\n",
       "      <td>9</td>\n",
       "    </tr>\n",
       "  </tbody>\n",
       "</table>\n",
       "</div>"
      ],
      "text/plain": [
       "   A  B\n",
       "0  0  1\n",
       "1  2  3\n",
       "2  4  5\n",
       "3  6  7\n",
       "4  8  9"
      ]
     },
     "execution_count": 12,
     "metadata": {},
     "output_type": "execute_result"
    }
   ],
   "source": [
    "df = pd.DataFrame(np.arange(10).reshape(-1, 2), columns=['A', 'B'])\n",
    "df"
   ]
  },
  {
   "cell_type": "code",
   "execution_count": null,
   "metadata": {
    "collapsed": false,
    "scrolled": false
   },
   "outputs": [],
   "source": []
  },
  {
   "cell_type": "code",
   "execution_count": 13,
   "metadata": {
    "collapsed": false,
    "scrolled": true
   },
   "outputs": [],
   "source": [
    "random_stock=st[np.random.randint(1,len(st))]"
   ]
  },
  {
   "cell_type": "code",
   "execution_count": 14,
   "metadata": {
    "collapsed": false
   },
   "outputs": [],
   "source": [
    "s=Stock_indicators_x(random_stock,start='2016-01-01')"
   ]
  },
  {
   "cell_type": "code",
   "execution_count": 15,
   "metadata": {
    "collapsed": false
   },
   "outputs": [
    {
     "data": {
      "text/plain": [
       "(237, 18)"
      ]
     },
     "execution_count": 15,
     "metadata": {},
     "output_type": "execute_result"
    }
   ],
   "source": [
    "s.indicators.shape"
   ]
  },
  {
   "cell_type": "code",
   "execution_count": 16,
   "metadata": {
    "collapsed": false
   },
   "outputs": [
    {
     "data": {
      "text/plain": [
       "Index(['CCI', 'AD', 'Willi_R', 'MACD', 'RSI', 'Sto_d', 'Sto_k', 'MOM', 'WMA',\n",
       "       'SMA10', 'open', 'close', 'high', 'low', 'total_turnover', 'volume',\n",
       "       'limit_up', 'limit_down'],\n",
       "      dtype='object')"
      ]
     },
     "execution_count": 16,
     "metadata": {},
     "output_type": "execute_result"
    }
   ],
   "source": [
    "s.indicators.columns"
   ]
  },
  {
   "cell_type": "code",
   "execution_count": null,
   "metadata": {
    "collapsed": true
   },
   "outputs": [],
   "source": []
  },
  {
   "cell_type": "code",
   "execution_count": 17,
   "metadata": {
    "collapsed": false
   },
   "outputs": [],
   "source": [
    "si=s.indicators.copy()"
   ]
  },
  {
   "cell_type": "code",
   "execution_count": 18,
   "metadata": {
    "collapsed": false
   },
   "outputs": [
    {
     "data": {
      "text/plain": [
       "(237, 14)"
      ]
     },
     "execution_count": 18,
     "metadata": {},
     "output_type": "execute_result"
    }
   ],
   "source": [
    "si=si.iloc[:,:14]\n",
    "si.shape"
   ]
  },
  {
   "cell_type": "code",
   "execution_count": 19,
   "metadata": {
    "collapsed": false
   },
   "outputs": [],
   "source": [
    "train_test_database=si.join(si[['close','high']].shift(-1),rsuffix='_tomorrow')"
   ]
  },
  {
   "cell_type": "code",
   "execution_count": 20,
   "metadata": {
    "collapsed": false
   },
   "outputs": [],
   "source": [
    "train_test_database=train_test_database.dropna()"
   ]
  },
  {
   "cell_type": "code",
   "execution_count": 21,
   "metadata": {
    "collapsed": true
   },
   "outputs": [],
   "source": [
    "threshold=0.01"
   ]
  },
  {
   "cell_type": "code",
   "execution_count": 22,
   "metadata": {
    "collapsed": true
   },
   "outputs": [],
   "source": [
    "t1=(train_test_database.close_tomorrow-train_test_database.close)/train_test_database.close\n",
    "t2=(train_test_database.high_tomorrow-train_test_database.high)/train_test_database.high"
   ]
  },
  {
   "cell_type": "code",
   "execution_count": 23,
   "metadata": {
    "collapsed": false
   },
   "outputs": [],
   "source": [
    "t1.name='close_threshold'\n",
    "t2.name='high_threshold'"
   ]
  },
  {
   "cell_type": "code",
   "execution_count": 24,
   "metadata": {
    "collapsed": false
   },
   "outputs": [],
   "source": [
    "train_test_database =train_test_database.join(t1).join(t2)"
   ]
  },
  {
   "cell_type": "code",
   "execution_count": 25,
   "metadata": {
    "collapsed": false
   },
   "outputs": [
    {
     "data": {
      "text/plain": [
       "Index(['CCI', 'AD', 'Willi_R', 'MACD', 'RSI', 'Sto_d', 'Sto_k', 'MOM', 'WMA',\n",
       "       'SMA10', 'open', 'close', 'high', 'low', 'close_tomorrow',\n",
       "       'high_tomorrow', 'close_threshold', 'high_threshold'],\n",
       "      dtype='object')"
      ]
     },
     "execution_count": 25,
     "metadata": {},
     "output_type": "execute_result"
    }
   ],
   "source": [
    "train_test_database.columns"
   ]
  },
  {
   "cell_type": "code",
   "execution_count": 26,
   "metadata": {
    "collapsed": false,
    "scrolled": true
   },
   "outputs": [],
   "source": [
    "# def judge(x):\n",
    "#     if x>threshold:\n",
    "#         return (1)\n",
    "#     else:\n",
    "#         return (0)\n",
    "    \n",
    "# judge(0.001)"
   ]
  },
  {
   "cell_type": "code",
   "execution_count": 27,
   "metadata": {
    "collapsed": false
   },
   "outputs": [],
   "source": [
    "t_f=train_test_database[['close_threshold','high_threshold']].apply(lambda x :  x>threshold )\n"
   ]
  },
  {
   "cell_type": "code",
   "execution_count": 28,
   "metadata": {
    "collapsed": false
   },
   "outputs": [],
   "source": [
    "train_test_database=train_test_database.join(t_f,rsuffix='_TF')\n"
   ]
  },
  {
   "cell_type": "code",
   "execution_count": 29,
   "metadata": {
    "collapsed": false
   },
   "outputs": [
    {
     "data": {
      "text/html": [
       "<div>\n",
       "<table border=\"1\" class=\"dataframe\">\n",
       "  <thead>\n",
       "    <tr style=\"text-align: right;\">\n",
       "      <th></th>\n",
       "      <th>CCI</th>\n",
       "      <th>AD</th>\n",
       "      <th>Willi_R</th>\n",
       "      <th>MACD</th>\n",
       "      <th>RSI</th>\n",
       "      <th>Sto_d</th>\n",
       "      <th>Sto_k</th>\n",
       "      <th>MOM</th>\n",
       "      <th>WMA</th>\n",
       "      <th>SMA10</th>\n",
       "      <th>open</th>\n",
       "      <th>close</th>\n",
       "      <th>high</th>\n",
       "      <th>low</th>\n",
       "      <th>close_tomorrow</th>\n",
       "      <th>high_tomorrow</th>\n",
       "      <th>close_threshold</th>\n",
       "      <th>high_threshold</th>\n",
       "      <th>close_threshold_TF</th>\n",
       "      <th>high_threshold_TF</th>\n",
       "    </tr>\n",
       "  </thead>\n",
       "  <tbody>\n",
       "    <tr>\n",
       "      <th>2016-02-15</th>\n",
       "      <td>-57.137557</td>\n",
       "      <td>0.025982</td>\n",
       "      <td>-71.099031</td>\n",
       "      <td>-1.348607</td>\n",
       "      <td>32.402449</td>\n",
       "      <td>29.716413</td>\n",
       "      <td>28.900969</td>\n",
       "      <td>-3.2789</td>\n",
       "      <td>66.021780</td>\n",
       "      <td>66.45500</td>\n",
       "      <td>63.9988</td>\n",
       "      <td>66.1181</td>\n",
       "      <td>66.8579</td>\n",
       "      <td>63.7789</td>\n",
       "      <td>70.8365</td>\n",
       "      <td>71.8962</td>\n",
       "      <td>0.071363</td>\n",
       "      <td>0.075358</td>\n",
       "      <td>True</td>\n",
       "      <td>True</td>\n",
       "    </tr>\n",
       "    <tr>\n",
       "      <th>2016-02-16</th>\n",
       "      <td>68.118054</td>\n",
       "      <td>1.245683</td>\n",
       "      <td>-42.441009</td>\n",
       "      <td>-1.253734</td>\n",
       "      <td>52.641197</td>\n",
       "      <td>33.255155</td>\n",
       "      <td>89.942581</td>\n",
       "      <td>0.3598</td>\n",
       "      <td>66.818416</td>\n",
       "      <td>66.59895</td>\n",
       "      <td>67.3277</td>\n",
       "      <td>70.8365</td>\n",
       "      <td>71.8962</td>\n",
       "      <td>67.2577</td>\n",
       "      <td>70.7466</td>\n",
       "      <td>71.1564</td>\n",
       "      <td>-0.001269</td>\n",
       "      <td>-0.010290</td>\n",
       "      <td>False</td>\n",
       "      <td>False</td>\n",
       "    </tr>\n",
       "  </tbody>\n",
       "</table>\n",
       "</div>"
      ],
      "text/plain": [
       "                  CCI        AD    Willi_R      MACD        RSI      Sto_d  \\\n",
       "2016-02-15 -57.137557  0.025982 -71.099031 -1.348607  32.402449  29.716413   \n",
       "2016-02-16  68.118054  1.245683 -42.441009 -1.253734  52.641197  33.255155   \n",
       "\n",
       "                Sto_k     MOM        WMA     SMA10     open    close     high  \\\n",
       "2016-02-15  28.900969 -3.2789  66.021780  66.45500  63.9988  66.1181  66.8579   \n",
       "2016-02-16  89.942581  0.3598  66.818416  66.59895  67.3277  70.8365  71.8962   \n",
       "\n",
       "                low  close_tomorrow  high_tomorrow  close_threshold  \\\n",
       "2016-02-15  63.7789         70.8365        71.8962         0.071363   \n",
       "2016-02-16  67.2577         70.7466        71.1564        -0.001269   \n",
       "\n",
       "            high_threshold close_threshold_TF high_threshold_TF  \n",
       "2016-02-15        0.075358               True              True  \n",
       "2016-02-16       -0.010290              False             False  "
      ]
     },
     "execution_count": 29,
     "metadata": {},
     "output_type": "execute_result"
    }
   ],
   "source": [
    "train_test_database[:2]"
   ]
  },
  {
   "cell_type": "code",
   "execution_count": 30,
   "metadata": {
    "collapsed": false
   },
   "outputs": [],
   "source": [
    "final_t_f=train_test_database.close_threshold_TF & train_test_database.high_threshold_TF\n",
    "final_t_f.name='final_t_f'"
   ]
  },
  {
   "cell_type": "code",
   "execution_count": 31,
   "metadata": {
    "collapsed": false
   },
   "outputs": [],
   "source": [
    "train_test_database=train_test_database.join(final_t_f,rsuffix='_final_t_f')"
   ]
  },
  {
   "cell_type": "code",
   "execution_count": 32,
   "metadata": {
    "collapsed": false,
    "scrolled": false
   },
   "outputs": [],
   "source": [
    "data=si.join(final_t_f)"
   ]
  },
  {
   "cell_type": "code",
   "execution_count": 33,
   "metadata": {
    "collapsed": true
   },
   "outputs": [],
   "source": [
    "def replace(x):\n",
    "    if x  :\n",
    "        return 1\n",
    "    else:\n",
    "        return -1"
   ]
  },
  {
   "cell_type": "code",
   "execution_count": 34,
   "metadata": {
    "collapsed": false
   },
   "outputs": [],
   "source": [
    "data['label']=data.final_t_f.apply(lambda x: replace(x))"
   ]
  },
  {
   "cell_type": "code",
   "execution_count": 35,
   "metadata": {
    "collapsed": false,
    "scrolled": true
   },
   "outputs": [
    {
     "data": {
      "text/html": [
       "<div>\n",
       "<table border=\"1\" class=\"dataframe\">\n",
       "  <thead>\n",
       "    <tr style=\"text-align: right;\">\n",
       "      <th></th>\n",
       "      <th>CCI</th>\n",
       "      <th>AD</th>\n",
       "      <th>Willi_R</th>\n",
       "      <th>MACD</th>\n",
       "      <th>RSI</th>\n",
       "      <th>Sto_d</th>\n",
       "      <th>Sto_k</th>\n",
       "      <th>MOM</th>\n",
       "      <th>WMA</th>\n",
       "      <th>SMA10</th>\n",
       "      <th>open</th>\n",
       "      <th>close</th>\n",
       "      <th>high</th>\n",
       "      <th>low</th>\n",
       "      <th>final_t_f</th>\n",
       "      <th>label</th>\n",
       "    </tr>\n",
       "  </thead>\n",
       "  <tbody>\n",
       "    <tr>\n",
       "      <th>2016-02-15</th>\n",
       "      <td>-57.137557</td>\n",
       "      <td>0.025982</td>\n",
       "      <td>-71.099031</td>\n",
       "      <td>-1.348607</td>\n",
       "      <td>32.402449</td>\n",
       "      <td>29.716413</td>\n",
       "      <td>28.900969</td>\n",
       "      <td>-3.2789</td>\n",
       "      <td>66.021780</td>\n",
       "      <td>66.45500</td>\n",
       "      <td>63.9988</td>\n",
       "      <td>66.1181</td>\n",
       "      <td>66.8579</td>\n",
       "      <td>63.7789</td>\n",
       "      <td>True</td>\n",
       "      <td>1</td>\n",
       "    </tr>\n",
       "    <tr>\n",
       "      <th>2016-02-16</th>\n",
       "      <td>68.118054</td>\n",
       "      <td>1.245683</td>\n",
       "      <td>-42.441009</td>\n",
       "      <td>-1.253734</td>\n",
       "      <td>52.641197</td>\n",
       "      <td>33.255155</td>\n",
       "      <td>89.942581</td>\n",
       "      <td>0.3598</td>\n",
       "      <td>66.818416</td>\n",
       "      <td>66.59895</td>\n",
       "      <td>67.3277</td>\n",
       "      <td>70.8365</td>\n",
       "      <td>71.8962</td>\n",
       "      <td>67.2577</td>\n",
       "      <td>False</td>\n",
       "      <td>-1</td>\n",
       "    </tr>\n",
       "    <tr>\n",
       "      <th>2016-02-17</th>\n",
       "      <td>65.375696</td>\n",
       "      <td>0.124036</td>\n",
       "      <td>-42.987033</td>\n",
       "      <td>-1.169416</td>\n",
       "      <td>50.513878</td>\n",
       "      <td>36.126332</td>\n",
       "      <td>89.089356</td>\n",
       "      <td>6.0180</td>\n",
       "      <td>67.572535</td>\n",
       "      <td>66.62594</td>\n",
       "      <td>69.9768</td>\n",
       "      <td>70.7466</td>\n",
       "      <td>71.1564</td>\n",
       "      <td>68.5773</td>\n",
       "      <td>False</td>\n",
       "      <td>-1</td>\n",
       "    </tr>\n",
       "  </tbody>\n",
       "</table>\n",
       "</div>"
      ],
      "text/plain": [
       "                  CCI        AD    Willi_R      MACD        RSI      Sto_d  \\\n",
       "2016-02-15 -57.137557  0.025982 -71.099031 -1.348607  32.402449  29.716413   \n",
       "2016-02-16  68.118054  1.245683 -42.441009 -1.253734  52.641197  33.255155   \n",
       "2016-02-17  65.375696  0.124036 -42.987033 -1.169416  50.513878  36.126332   \n",
       "\n",
       "                Sto_k     MOM        WMA     SMA10     open    close     high  \\\n",
       "2016-02-15  28.900969 -3.2789  66.021780  66.45500  63.9988  66.1181  66.8579   \n",
       "2016-02-16  89.942581  0.3598  66.818416  66.59895  67.3277  70.8365  71.8962   \n",
       "2016-02-17  89.089356  6.0180  67.572535  66.62594  69.9768  70.7466  71.1564   \n",
       "\n",
       "                low final_t_f  label  \n",
       "2016-02-15  63.7789      True      1  \n",
       "2016-02-16  67.2577     False     -1  \n",
       "2016-02-17  68.5773     False     -1  "
      ]
     },
     "execution_count": 35,
     "metadata": {},
     "output_type": "execute_result"
    }
   ],
   "source": [
    "data[:3]"
   ]
  },
  {
   "cell_type": "code",
   "execution_count": 36,
   "metadata": {
    "collapsed": false
   },
   "outputs": [
    {
     "data": {
      "text/plain": [
       "0.16878000000000001"
      ]
     },
     "execution_count": 36,
     "metadata": {},
     "output_type": "execute_result"
    }
   ],
   "source": [
    "positive_percentage=data['label'] [data['label']==1].count()/data['label'].count()\n",
    "positive_percentage=round(positive_percentage,5)\n",
    "positive_percentage"
   ]
  },
  {
   "cell_type": "code",
   "execution_count": 37,
   "metadata": {
    "collapsed": false,
    "scrolled": true
   },
   "outputs": [
    {
     "data": {
      "text/html": [
       "<div>\n",
       "<table border=\"1\" class=\"dataframe\">\n",
       "  <thead>\n",
       "    <tr style=\"text-align: right;\">\n",
       "      <th></th>\n",
       "      <th>CCI</th>\n",
       "      <th>AD</th>\n",
       "      <th>Willi_R</th>\n",
       "      <th>MACD</th>\n",
       "      <th>RSI</th>\n",
       "      <th>Sto_d</th>\n",
       "      <th>Sto_k</th>\n",
       "      <th>MOM</th>\n",
       "      <th>WMA</th>\n",
       "      <th>SMA10</th>\n",
       "      <th>open</th>\n",
       "      <th>close</th>\n",
       "      <th>high</th>\n",
       "      <th>low</th>\n",
       "      <th>final_t_f</th>\n",
       "      <th>label</th>\n",
       "    </tr>\n",
       "  </thead>\n",
       "  <tbody>\n",
       "    <tr>\n",
       "      <th>2016-02-15</th>\n",
       "      <td>-57.137557</td>\n",
       "      <td>0.025982</td>\n",
       "      <td>-71.099031</td>\n",
       "      <td>-1.348607</td>\n",
       "      <td>32.402449</td>\n",
       "      <td>29.716413</td>\n",
       "      <td>28.900969</td>\n",
       "      <td>-3.2789</td>\n",
       "      <td>66.021780</td>\n",
       "      <td>66.45500</td>\n",
       "      <td>63.9988</td>\n",
       "      <td>66.1181</td>\n",
       "      <td>66.8579</td>\n",
       "      <td>63.7789</td>\n",
       "      <td>True</td>\n",
       "      <td>1</td>\n",
       "    </tr>\n",
       "    <tr>\n",
       "      <th>2016-02-16</th>\n",
       "      <td>68.118054</td>\n",
       "      <td>1.245683</td>\n",
       "      <td>-42.441009</td>\n",
       "      <td>-1.253734</td>\n",
       "      <td>52.641197</td>\n",
       "      <td>33.255155</td>\n",
       "      <td>89.942581</td>\n",
       "      <td>0.3598</td>\n",
       "      <td>66.818416</td>\n",
       "      <td>66.59895</td>\n",
       "      <td>67.3277</td>\n",
       "      <td>70.8365</td>\n",
       "      <td>71.8962</td>\n",
       "      <td>67.2577</td>\n",
       "      <td>False</td>\n",
       "      <td>-1</td>\n",
       "    </tr>\n",
       "    <tr>\n",
       "      <th>2016-02-17</th>\n",
       "      <td>65.375696</td>\n",
       "      <td>0.124036</td>\n",
       "      <td>-42.987033</td>\n",
       "      <td>-1.169416</td>\n",
       "      <td>50.513878</td>\n",
       "      <td>36.126332</td>\n",
       "      <td>89.089356</td>\n",
       "      <td>6.0180</td>\n",
       "      <td>67.572535</td>\n",
       "      <td>66.62594</td>\n",
       "      <td>69.9768</td>\n",
       "      <td>70.7466</td>\n",
       "      <td>71.1564</td>\n",
       "      <td>68.5773</td>\n",
       "      <td>False</td>\n",
       "      <td>-1</td>\n",
       "    </tr>\n",
       "  </tbody>\n",
       "</table>\n",
       "</div>"
      ],
      "text/plain": [
       "                  CCI        AD    Willi_R      MACD        RSI      Sto_d  \\\n",
       "2016-02-15 -57.137557  0.025982 -71.099031 -1.348607  32.402449  29.716413   \n",
       "2016-02-16  68.118054  1.245683 -42.441009 -1.253734  52.641197  33.255155   \n",
       "2016-02-17  65.375696  0.124036 -42.987033 -1.169416  50.513878  36.126332   \n",
       "\n",
       "                Sto_k     MOM        WMA     SMA10     open    close     high  \\\n",
       "2016-02-15  28.900969 -3.2789  66.021780  66.45500  63.9988  66.1181  66.8579   \n",
       "2016-02-16  89.942581  0.3598  66.818416  66.59895  67.3277  70.8365  71.8962   \n",
       "2016-02-17  89.089356  6.0180  67.572535  66.62594  69.9768  70.7466  71.1564   \n",
       "\n",
       "                low final_t_f  label  \n",
       "2016-02-15  63.7789      True      1  \n",
       "2016-02-16  67.2577     False     -1  \n",
       "2016-02-17  68.5773     False     -1  "
      ]
     },
     "execution_count": 37,
     "metadata": {},
     "output_type": "execute_result"
    }
   ],
   "source": [
    "data[:3]"
   ]
  },
  {
   "cell_type": "code",
   "execution_count": 38,
   "metadata": {
    "collapsed": false
   },
   "outputs": [],
   "source": [
    "data.SMA10=data.SMA10>data.close"
   ]
  },
  {
   "cell_type": "code",
   "execution_count": 39,
   "metadata": {
    "collapsed": false
   },
   "outputs": [],
   "source": [
    "data.WMA=data.WMA>data.close"
   ]
  },
  {
   "cell_type": "code",
   "execution_count": 40,
   "metadata": {
    "collapsed": false
   },
   "outputs": [],
   "source": [
    "def mom_j(x):\n",
    "    if x>0:\n",
    "        return True\n",
    "    else:\n",
    "        return False\n",
    "data.MOM=data.MOM.apply(lambda x: mom_j(x))"
   ]
  },
  {
   "cell_type": "code",
   "execution_count": 41,
   "metadata": {
    "collapsed": false
   },
   "outputs": [],
   "source": [
    "data.Sto_k=data.Sto_k.diff()[1:].apply(lambda x: x>0)"
   ]
  },
  {
   "cell_type": "code",
   "execution_count": 42,
   "metadata": {
    "collapsed": true
   },
   "outputs": [],
   "source": [
    "data.Sto_d=data.Sto_d.diff()[1:].apply(lambda x: x>0)"
   ]
  },
  {
   "cell_type": "code",
   "execution_count": 43,
   "metadata": {
    "collapsed": false,
    "scrolled": true
   },
   "outputs": [],
   "source": [
    "x=data.RSI<=30\n",
    "y1=((30<data.RSI  ) & ( data.RSI <70 ))\n",
    "y2=data.RSI.diff().rename('RSI_diff')>0\n",
    "data.RSI=x | (y1 &y2 )"
   ]
  },
  {
   "cell_type": "code",
   "execution_count": 44,
   "metadata": {
    "collapsed": false
   },
   "outputs": [],
   "source": [
    "data.MACD=data.MACD.diff()[1:]>0"
   ]
  },
  {
   "cell_type": "code",
   "execution_count": 45,
   "metadata": {
    "collapsed": false
   },
   "outputs": [],
   "source": [
    "data.Willi_R=data.Willi_R.diff()[1:]>0"
   ]
  },
  {
   "cell_type": "code",
   "execution_count": 46,
   "metadata": {
    "collapsed": false,
    "scrolled": true
   },
   "outputs": [],
   "source": [
    "data.AD=data.AD.diff()[1:]>0"
   ]
  },
  {
   "cell_type": "code",
   "execution_count": 47,
   "metadata": {
    "collapsed": false
   },
   "outputs": [
    {
     "data": {
      "text/html": [
       "<div>\n",
       "<table border=\"1\" class=\"dataframe\">\n",
       "  <thead>\n",
       "    <tr style=\"text-align: right;\">\n",
       "      <th></th>\n",
       "      <th>CCI</th>\n",
       "      <th>AD</th>\n",
       "      <th>Willi_R</th>\n",
       "      <th>MACD</th>\n",
       "      <th>RSI</th>\n",
       "      <th>Sto_d</th>\n",
       "      <th>Sto_k</th>\n",
       "      <th>MOM</th>\n",
       "      <th>WMA</th>\n",
       "      <th>SMA10</th>\n",
       "      <th>open</th>\n",
       "      <th>close</th>\n",
       "      <th>high</th>\n",
       "      <th>low</th>\n",
       "      <th>final_t_f</th>\n",
       "      <th>label</th>\n",
       "    </tr>\n",
       "  </thead>\n",
       "  <tbody>\n",
       "    <tr>\n",
       "      <th>2016-02-15</th>\n",
       "      <td>-57.137557</td>\n",
       "      <td>NaN</td>\n",
       "      <td>NaN</td>\n",
       "      <td>NaN</td>\n",
       "      <td>False</td>\n",
       "      <td>NaN</td>\n",
       "      <td>NaN</td>\n",
       "      <td>False</td>\n",
       "      <td>False</td>\n",
       "      <td>True</td>\n",
       "      <td>63.9988</td>\n",
       "      <td>66.1181</td>\n",
       "      <td>66.8579</td>\n",
       "      <td>63.7789</td>\n",
       "      <td>True</td>\n",
       "      <td>1</td>\n",
       "    </tr>\n",
       "    <tr>\n",
       "      <th>2016-02-16</th>\n",
       "      <td>68.118054</td>\n",
       "      <td>True</td>\n",
       "      <td>True</td>\n",
       "      <td>True</td>\n",
       "      <td>True</td>\n",
       "      <td>True</td>\n",
       "      <td>True</td>\n",
       "      <td>True</td>\n",
       "      <td>False</td>\n",
       "      <td>False</td>\n",
       "      <td>67.3277</td>\n",
       "      <td>70.8365</td>\n",
       "      <td>71.8962</td>\n",
       "      <td>67.2577</td>\n",
       "      <td>False</td>\n",
       "      <td>-1</td>\n",
       "    </tr>\n",
       "  </tbody>\n",
       "</table>\n",
       "</div>"
      ],
      "text/plain": [
       "                  CCI    AD Willi_R  MACD    RSI Sto_d Sto_k    MOM    WMA  \\\n",
       "2016-02-15 -57.137557   NaN     NaN   NaN  False   NaN   NaN  False  False   \n",
       "2016-02-16  68.118054  True    True  True   True  True  True   True  False   \n",
       "\n",
       "            SMA10     open    close     high      low final_t_f  label  \n",
       "2016-02-15   True  63.9988  66.1181  66.8579  63.7789      True      1  \n",
       "2016-02-16  False  67.3277  70.8365  71.8962  67.2577     False     -1  "
      ]
     },
     "execution_count": 47,
     "metadata": {},
     "output_type": "execute_result"
    }
   ],
   "source": [
    "data[:2]"
   ]
  },
  {
   "cell_type": "code",
   "execution_count": 48,
   "metadata": {
    "collapsed": false
   },
   "outputs": [],
   "source": [
    "x=data.CCI>=200\n",
    "y1=((150<data.CCI  ) & ( data.CCI <200 ))\n",
    "y2=data.CCI.diff().rename('RSI_diff')>0\n",
    "data.CCI=x | (y1 &y2 )"
   ]
  },
  {
   "cell_type": "code",
   "execution_count": 49,
   "metadata": {
    "collapsed": false
   },
   "outputs": [],
   "source": [
    "data=data.dropna()"
   ]
  },
  {
   "cell_type": "code",
   "execution_count": 50,
   "metadata": {
    "collapsed": false,
    "scrolled": false
   },
   "outputs": [
    {
     "data": {
      "text/html": [
       "<div>\n",
       "<table border=\"1\" class=\"dataframe\">\n",
       "  <thead>\n",
       "    <tr style=\"text-align: right;\">\n",
       "      <th></th>\n",
       "      <th>CCI</th>\n",
       "      <th>AD</th>\n",
       "      <th>Willi_R</th>\n",
       "      <th>MACD</th>\n",
       "      <th>RSI</th>\n",
       "      <th>Sto_d</th>\n",
       "      <th>Sto_k</th>\n",
       "      <th>MOM</th>\n",
       "      <th>WMA</th>\n",
       "      <th>SMA10</th>\n",
       "      <th>open</th>\n",
       "      <th>close</th>\n",
       "      <th>high</th>\n",
       "      <th>low</th>\n",
       "      <th>final_t_f</th>\n",
       "      <th>label</th>\n",
       "    </tr>\n",
       "  </thead>\n",
       "  <tbody>\n",
       "    <tr>\n",
       "      <th>2016-02-16</th>\n",
       "      <td>False</td>\n",
       "      <td>True</td>\n",
       "      <td>True</td>\n",
       "      <td>True</td>\n",
       "      <td>True</td>\n",
       "      <td>True</td>\n",
       "      <td>True</td>\n",
       "      <td>True</td>\n",
       "      <td>False</td>\n",
       "      <td>False</td>\n",
       "      <td>67.3277</td>\n",
       "      <td>70.8365</td>\n",
       "      <td>71.8962</td>\n",
       "      <td>67.2577</td>\n",
       "      <td>False</td>\n",
       "      <td>-1</td>\n",
       "    </tr>\n",
       "    <tr>\n",
       "      <th>2016-02-17</th>\n",
       "      <td>False</td>\n",
       "      <td>False</td>\n",
       "      <td>False</td>\n",
       "      <td>True</td>\n",
       "      <td>False</td>\n",
       "      <td>True</td>\n",
       "      <td>False</td>\n",
       "      <td>True</td>\n",
       "      <td>False</td>\n",
       "      <td>False</td>\n",
       "      <td>69.9768</td>\n",
       "      <td>70.7466</td>\n",
       "      <td>71.1564</td>\n",
       "      <td>68.5773</td>\n",
       "      <td>False</td>\n",
       "      <td>-1</td>\n",
       "    </tr>\n",
       "  </tbody>\n",
       "</table>\n",
       "</div>"
      ],
      "text/plain": [
       "              CCI     AD Willi_R  MACD    RSI Sto_d  Sto_k   MOM    WMA  \\\n",
       "2016-02-16  False   True    True  True   True  True   True  True  False   \n",
       "2016-02-17  False  False   False  True  False  True  False  True  False   \n",
       "\n",
       "            SMA10     open    close     high      low final_t_f  label  \n",
       "2016-02-16  False  67.3277  70.8365  71.8962  67.2577     False     -1  \n",
       "2016-02-17  False  69.9768  70.7466  71.1564  68.5773     False     -1  "
      ]
     },
     "execution_count": 50,
     "metadata": {},
     "output_type": "execute_result"
    }
   ],
   "source": [
    "data[:2]"
   ]
  },
  {
   "cell_type": "code",
   "execution_count": 51,
   "metadata": {
    "collapsed": false,
    "scrolled": true
   },
   "outputs": [],
   "source": [
    "def t_f2val(x):\n",
    "    if x:\n",
    "        return 1\n",
    "    else :\n",
    "        return 0\n",
    "data_X=data.iloc[:,:10].applymap(lambda x :  t_f2val(x))\n",
    "data_y=data.iloc[:,-1]"
   ]
  },
  {
   "cell_type": "code",
   "execution_count": 52,
   "metadata": {
    "collapsed": false
   },
   "outputs": [],
   "source": [
    "data_X_y=data_X.join(data_y)"
   ]
  },
  {
   "cell_type": "code",
   "execution_count": 53,
   "metadata": {
    "collapsed": false,
    "scrolled": false
   },
   "outputs": [
    {
     "data": {
      "text/plain": [
       "(235, 11)"
      ]
     },
     "execution_count": 53,
     "metadata": {},
     "output_type": "execute_result"
    }
   ],
   "source": [
    "data_X_y.shape"
   ]
  },
  {
   "cell_type": "code",
   "execution_count": null,
   "metadata": {
    "collapsed": true
   },
   "outputs": [],
   "source": []
  },
  {
   "cell_type": "code",
   "execution_count": 54,
   "metadata": {
    "collapsed": false,
    "scrolled": true
   },
   "outputs": [
    {
     "data": {
      "text/plain": [
       "11"
      ]
     },
     "execution_count": 54,
     "metadata": {},
     "output_type": "execute_result"
    }
   ],
   "source": [
    "xx=data_X_y[:50]\n",
    "xx['label'][xx['label']==1].sum()"
   ]
  },
  {
   "cell_type": "code",
   "execution_count": 55,
   "metadata": {
    "collapsed": false
   },
   "outputs": [],
   "source": [
    "dif=pd.DataFrame([s.close,s.open.shift(-1)]).T.copy()"
   ]
  },
  {
   "cell_type": "code",
   "execution_count": 56,
   "metadata": {
    "collapsed": false,
    "scrolled": false
   },
   "outputs": [
    {
     "name": "stdout",
     "output_type": "stream",
     "text": [
      "High five! You successfuly sent some data to your account on plotly. View your plot in your browser at https://plot.ly/~pjl88209/0 or inside your plot.ly account where it is named 'Winning'\n"
     ]
    },
    {
     "data": {
      "text/html": [
       "<iframe id=\"igraph\" scrolling=\"no\" style=\"border:none;\" seamless=\"seamless\" src=\"https://plot.ly/~pjl88209/0.embed\" height=\"525px\" width=\"100%\"></iframe>"
      ],
      "text/plain": [
       "<plotly.tools.PlotlyDisplay object>"
      ]
     },
     "execution_count": 56,
     "metadata": {},
     "output_type": "execute_result"
    }
   ],
   "source": [
    "\n",
    "dif=dif.dropna()\n",
    "\n",
    "series=((dif.open-dif.close)/dif.close)\n",
    "dif=dif.applymap(lambda x :x -dif.close.mean())\n",
    "\n",
    "dif['diff']=series\n",
    "\n",
    "dif=dif.rename(columns={'diff':'（明天开盘价-今天收盘价）/今天收盘价','open':'open_tomorrom'})\n",
    "# # dif.columns=['close','open','（明天开盘价-今天收盘价）/今天收盘价']\n",
    "zplot(dif)"
   ]
  },
  {
   "cell_type": "code",
   "execution_count": 57,
   "metadata": {
    "collapsed": false,
    "scrolled": true
   },
   "outputs": [
    {
     "data": {
      "text/html": [
       "<div>\n",
       "<table border=\"1\" class=\"dataframe\">\n",
       "  <thead>\n",
       "    <tr style=\"text-align: right;\">\n",
       "      <th></th>\n",
       "      <th>close</th>\n",
       "      <th>open_tomorrom</th>\n",
       "      <th>（明天开盘价-今天收盘价）/今天收盘价</th>\n",
       "    </tr>\n",
       "  </thead>\n",
       "  <tbody>\n",
       "    <tr>\n",
       "      <th>2016-01-04</th>\n",
       "      <td>26.57225</td>\n",
       "      <td>20.91415</td>\n",
       "      <td>-0.063926</td>\n",
       "    </tr>\n",
       "    <tr>\n",
       "      <th>2016-01-05</th>\n",
       "      <td>25.93245</td>\n",
       "      <td>26.03245</td>\n",
       "      <td>0.001138</td>\n",
       "    </tr>\n",
       "  </tbody>\n",
       "</table>\n",
       "</div>"
      ],
      "text/plain": [
       "               close  open_tomorrom  （明天开盘价-今天收盘价）/今天收盘价\n",
       "2016-01-04  26.57225       20.91415            -0.063926\n",
       "2016-01-05  25.93245       26.03245             0.001138"
      ]
     },
     "execution_count": 57,
     "metadata": {},
     "output_type": "execute_result"
    }
   ],
   "source": [
    "dif[:2]"
   ]
  },
  {
   "cell_type": "code",
   "execution_count": 58,
   "metadata": {
    "collapsed": false
   },
   "outputs": [
    {
     "name": "stdout",
     "output_type": "stream",
     "text": [
      "[1 1 0 0 0 0 0 0 0 4 0 0 0 1]\n"
     ]
    },
    {
     "data": {
      "text/plain": [
       "14"
      ]
     },
     "execution_count": 58,
     "metadata": {},
     "output_type": "execute_result"
    }
   ],
   "source": [
    "x_yxx=np.bincount(np.array([0,9,9,1,9,  9,13]))\n",
    "print(x_yxx)\n",
    "len(x_yxx)"
   ]
  },
  {
   "cell_type": "code",
   "execution_count": 59,
   "metadata": {
    "collapsed": false
   },
   "outputs": [
    {
     "data": {
      "text/plain": [
       "2.1000000000000001"
      ]
     },
     "execution_count": 59,
     "metadata": {},
     "output_type": "execute_result"
    }
   ],
   "source": [
    "w = np.array([0.3, 0.5, 0.2, 0.7, 1., -0.6]) \n",
    "sum(w)"
   ]
  },
  {
   "cell_type": "code",
   "execution_count": null,
   "metadata": {
    "collapsed": true
   },
   "outputs": [],
   "source": []
  },
  {
   "cell_type": "code",
   "execution_count": 60,
   "metadata": {
    "collapsed": false
   },
   "outputs": [],
   "source": [
    "# import numpy as np\n",
    "# import pylab as pl\n",
    "\n",
    "# from sklearn import clone\n",
    "# from sklearn.datasets import load_iris\n",
    "\n",
    "# # note: these imports are incorrect in the example online!\n",
    "# from sklearn.ensemble.weight_boosting import AdaBoostClassifier\n",
    "# from sklearn.ensemble.forest import (RandomForestClassifier,\n",
    "#                                         ExtraTreesClassifier)\n",
    "\n",
    "# from sklearn.externals.six.moves import xrange\n",
    "# from sklearn.tree import DecisionTreeClassifier\n",
    "\n",
    "# # Parameters\n",
    "# n_classes = 3\n",
    "# n_estimators = 30\n",
    "# plot_colors = \"bry\"\n",
    "# plot_step = 0.02\n",
    "\n",
    "# # Load data\n",
    "# iris = load_iris()\n",
    "\n",
    "# plot_idx = 1\n",
    "\n",
    "# for pair in ([0, 1], [0, 2], [2, 3]): # use different data feteatures\n",
    "#     for model in (DecisionTreeClassifier(),\n",
    "#                   RandomForestClassifier(n_estimators=n_estimators),\n",
    "#                   ExtraTreesClassifier(n_estimators=n_estimators),\n",
    "#                   AdaBoostClassifier(DecisionTreeClassifier(),\n",
    "#                                      n_estimators=n_estimators)):\n",
    "#         # We only take the two corresponding features\n",
    "#         X = iris.data[:, pair]\n",
    "#         y = iris.target\n",
    "\n",
    "#         # Shuffle\n",
    "#         idx = np.arange(X.shape[0])\n",
    "#         np.random.seed(13)\n",
    "#         np.random.shuffle(idx)\n",
    "#         X = X[idx]\n",
    "#         y = y[idx]\n",
    "\n",
    "#         # Standardize\n",
    "#         mean = X.mean(axis=0)\n",
    "#         std = X.std(axis=0)\n",
    "#         X = (X - mean) / std\n",
    "\n",
    "#         # Train\n",
    "#         clf = model.fit(X, y)\n",
    "\n",
    "#         # Get accuracy scores\n",
    "#         scores = clf.score(X, y)\n",
    "#         # Create a title for each column and the console by using str() and slicing away useless parts of the string\n",
    "#         model_title = str(type(model)).split(\".\")[-1][:-2][:-len(\"Classifier\")]\n",
    "#         model_details = model_title\n",
    "#         if hasattr(model, \"estimators_\"):\n",
    "#             model_details += \" with {} estimators\".format(len(model.estimators_))\n",
    "#         print (model_details + \" with features\", pair, \"has a score of\", scores)\n",
    "\n",
    "#         # Plot the decision boundary\n",
    "#         pl.subplot(3, 4, plot_idx)\n",
    "\n",
    "#         x_min, x_max = X[:, 0].min() - 1, X[:, 0].max() + 1\n",
    "#         y_min, y_max = X[:, 1].min() - 1, X[:, 1].max() + 1\n",
    "#         xx, yy = np.meshgrid(np.arange(x_min, x_max, plot_step),\n",
    "#                              np.arange(y_min, y_max, plot_step))\n",
    "\n",
    "#         if isinstance(model, DecisionTreeClassifier):\n",
    "#             Z = model.predict(np.c_[xx.ravel(), yy.ravel()])\n",
    "#             Z = Z.reshape(xx.shape)\n",
    "#             cs = pl.contourf(xx, yy, Z, cmap=pl.cm.Paired)\n",
    "#         else:\n",
    "#             for tree in model.estimators_:\n",
    "#                 Z = tree.predict(np.c_[xx.ravel(), yy.ravel()])\n",
    "#                 Z = Z.reshape(xx.shape)\n",
    "#                 cs = pl.contourf(xx, yy, Z, alpha=0.1, cmap=pl.cm.Paired)\n",
    "\n",
    "#         pl.axis(\"tight\")\n",
    "\n",
    "#         # Plot the training points\n",
    "#         for i, c in zip(xrange(n_classes), plot_colors):\n",
    "#             idx = np.where(y == i)\n",
    "#             pl.scatter(X[idx, 0], X[idx, 1], c=c, label=iris.target_names[i],\n",
    "#                        cmap=pl.cm.Paired)\n",
    "\n",
    "#         pl.axis(\"tight\")\n",
    "\n",
    "#         plot_idx += 1\n",
    "\n",
    "# pl.suptitle(\"Decision surfaces of DecisionTreeClassifier, \"\n",
    "#             \"RandomForestClassifier,\\nExtraTreesClassifier\"\n",
    "#             \" and AdaBoostClassifier\")\n",
    "# pl.show()"
   ]
  },
  {
   "cell_type": "code",
   "execution_count": 61,
   "metadata": {
    "collapsed": false
   },
   "outputs": [],
   "source": [
    "# import numpy as np\n",
    "# import pylab as pl\n",
    "\n",
    "# from sklearn import clone\n",
    "# from sklearn.datasets import load_iris\n",
    "\n",
    "# # note: these imports are incorrect in the example online!\n",
    "# from sklearn.ensemble.weight_boosting import AdaBoostClassifier\n",
    "# from sklearn.ensemble.forest import (RandomForestClassifier,\n",
    "#                                         ExtraTreesClassifier)\n",
    "\n",
    "# from sklearn.externals.six.moves import xrange\n",
    "# from sklearn.tree import DecisionTreeClassifier\n",
    "\n",
    "# # Parameters\n",
    "# n_classes = 3\n",
    "# n_estimators = 30\n",
    "# plot_colors = \"bry\"\n",
    "# plot_step = 0.02\n",
    "\n",
    "# # Load data\n",
    "# iris = load_iris()\n",
    "\n",
    "# plot_idx = 1\n",
    "\n",
    "# # for pair in ([0, 1], [0, 2], [2, 3]): # use different data feteatures\n",
    "# for model in (DecisionTreeClassifier(),\n",
    "#               RandomForestClassifier(n_estimators=n_estimators),\n",
    "#               ExtraTreesClassifier(n_estimators=n_estimators),\n",
    "#               AdaBoostClassifier(DecisionTreeClassifier(),\n",
    "#                                  n_estimators=n_estimators)):\n",
    "#     # We only take the two corresponding features\n",
    "#     X = iris.data\n",
    "#     y = iris.target\n",
    "\n",
    "#     # Shuffle\n",
    "#     idx = np.arange(X.shape[0])\n",
    "#     np.random.seed(13)\n",
    "#     np.random.shuffle(idx)\n",
    "#     X = X[idx]\n",
    "#     y = y[idx]\n",
    "\n",
    "#     # Standardize\n",
    "#     mean = X.mean(axis=0)\n",
    "#     std = X.std(axis=0)\n",
    "#     X = (X - mean) / std\n",
    "\n",
    "#     # Train\n",
    "#     clf = model.fit(X, y)\n",
    "\n",
    "#     # Get accuracy scores\n",
    "#     scores = clf.score(X, y)\n",
    "#     # Create a title for each column and the console by using str() and slicing away useless parts of the string\n",
    "# #     model_title = str(type(model)).split(\".\")[-1][:-2][:-len(\"Classifier\")]\n",
    "# #     model_details = model_title\n",
    "# #     if hasattr(model, \"estimators_\"):\n",
    "# #         model_details += \" with {} estimators\".format(len(model.estimators_))\n",
    "# #     print (model_details + \" with features\", pair, \"has a score of\", scores)\n",
    "\n",
    "#     # Plot the decision boundary\n",
    "# #     pl.subplot(1, 4, plot_idx)\n",
    "\n",
    "# #     x_min, x_max = X[:, 0].min() - 1, X[:, 0].max() + 1\n",
    "# #     y_min, y_max = X[:, 1].min() - 1, X[:, 1].max() + 1\n",
    "# #     z_min, z_max = X[:, 2].min() - 1, X[:, 2].max() + 1\n",
    "# #     zz_min, zz_max = X[:, 3].min() - 1, X[:, 3].max() + 1\n",
    "# #     xx, yy = np.meshgrid(np.arange(x_min, x_max, plot_step),\n",
    "# #                          np.arange(y_min, y_max, plot_step),\n",
    "# #                          np.arange(z_min, z_max, plot_step),\n",
    "# #                          np.arange(zz_min, zz_max, plot_step))\n",
    "\n",
    "# #     if isinstance(model, DecisionTreeClassifier):\n",
    "# #         Z = model.predict(np.c_[xx.ravel(), yy.ravel()])\n",
    "# #         Z = Z.reshape(xx.shape)\n",
    "# #         cs = pl.contourf(xx, yy, Z, cmap=pl.cm.Paired)\n",
    "# #     else:\n",
    "# #         for tree in model.estimators_:\n",
    "# #             Z = tree.predict(np.c_[xx.ravel(), yy.ravel()])\n",
    "# #             Z = Z.reshape(xx.shape)\n",
    "# #             cs = pl.contourf(xx, yy, Z, alpha=0.1, cmap=pl.cm.Paired)\n",
    "\n",
    "#     pl.axis(\"tight\")\n",
    "\n",
    "#     # Plot the training points\n",
    "#     for i, c in zip(xrange(n_classes), plot_colors):\n",
    "#         idx = np.where(y == i)\n",
    "#         pl.scatter(X[idx, 0], X[idx, 1], c=c, label=iris.target_names[i],\n",
    "#                    cmap=pl.cm.Paired)\n",
    "\n",
    "#     pl.axis(\"tight\")\n",
    "\n",
    "#     plot_idx += 1\n",
    "\n",
    "# # # pl.suptitle(\"Decision surfaces of DecisionTreeClassifier, \"\n",
    "# #             \"RandomForestClassifier,\\nExtraTreesClassifier\"\n",
    "# #             \" and AdaBoostClassifier\")\n",
    "# pl.show()"
   ]
  },
  {
   "cell_type": "code",
   "execution_count": 62,
   "metadata": {
    "collapsed": false
   },
   "outputs": [
    {
     "data": {
      "text/plain": [
       "array([0, 1, 2, 3])"
      ]
     },
     "execution_count": 62,
     "metadata": {},
     "output_type": "execute_result"
    }
   ],
   "source": [
    "ix=np.arange(4)\n",
    "ix"
   ]
  },
  {
   "cell_type": "code",
   "execution_count": 63,
   "metadata": {
    "collapsed": false
   },
   "outputs": [
    {
     "data": {
      "text/plain": [
       "array([1, 3, 0, 2])"
      ]
     },
     "execution_count": 63,
     "metadata": {},
     "output_type": "execute_result"
    }
   ],
   "source": [
    "np.random.seed(13)\n",
    "np.random.random()\n",
    "np.random.shuffle(ix)\n",
    "\n",
    "ix"
   ]
  },
  {
   "cell_type": "code",
   "execution_count": 64,
   "metadata": {
    "collapsed": false,
    "scrolled": true
   },
   "outputs": [
    {
     "data": {
      "text/plain": [
       "['for', 'each', 'column', 'and', 'the', 'console', '']"
      ]
     },
     "execution_count": 64,
     "metadata": {},
     "output_type": "execute_result"
    }
   ],
   "source": [
    "'for each column and the console '.split(' ')"
   ]
  },
  {
   "cell_type": "code",
   "execution_count": 65,
   "metadata": {
    "collapsed": true
   },
   "outputs": [],
   "source": [
    "from sklearn.ensemble import RandomForestClassifier"
   ]
  },
  {
   "cell_type": "code",
   "execution_count": 66,
   "metadata": {
    "collapsed": false,
    "scrolled": false
   },
   "outputs": [
    {
     "name": "stderr",
     "output_type": "stream",
     "text": [
      "/srv/env/lib64/python3.4/site-packages/sklearn/cross_validation.py:44: DeprecationWarning:\n",
      "\n",
      "This module was deprecated in version 0.18 in favor of the model_selection module into which all the refactored classes and functions are moved. Also note that the interface of the new CV iterators are different from that of this module. This module will be removed in 0.20.\n",
      "\n"
     ]
    },
    {
     "name": "stdout",
     "output_type": "stream",
     "text": [
      "AB \t-->  0.838534637877\n",
      "GB \t-->  0.842701304543\n",
      "KN \t-->  0.808940620783\n",
      "DT \t-->  0.779026090868\n",
      "GNB \t-->  0.813000449843\n",
      "LD \t-->  0.842701304543\n",
      "ET \t-->  0.808828160144\n",
      "QD \t-->  0.753266981556\n",
      "RF \t-->  0.817375168691\n",
      "SVC \t-->  0.812994826811\n"
     ]
    },
    {
     "data": {
      "text/html": [
       "<iframe id=\"igraph\" scrolling=\"no\" style=\"border:none;\" seamless=\"seamless\" src=\"https://plot.ly/~pjl88209/22.embed\" height=\"525px\" width=\"100%\"></iframe>"
      ],
      "text/plain": [
       "<plotly.tools.PlotlyDisplay object>"
      ]
     },
     "execution_count": 66,
     "metadata": {},
     "output_type": "execute_result"
    }
   ],
   "source": [
    "from sklearn.cross_validation import cross_val_score\n",
    "from sklearn.datasets import make_blobs\n",
    "\n",
    "# meta-estimator\n",
    "from sklearn.neighbors import KNeighborsClassifier\n",
    "from sklearn.svm import SVC\n",
    "from sklearn.tree import DecisionTreeClassifier\n",
    "from sklearn.ensemble import RandomForestClassifier\n",
    "from sklearn.ensemble import ExtraTreesClassifier\n",
    "from sklearn.ensemble import AdaBoostClassifier\n",
    "from sklearn.ensemble import GradientBoostingClassifier \n",
    "\n",
    "from sklearn.naive_bayes import GaussianNB\n",
    "from sklearn.discriminant_analysis import LinearDiscriminantAnalysis\n",
    "from sklearn.discriminant_analysis import QuadraticDiscriminantAnalysis\n",
    "\n",
    "\n",
    "classifiers = {\n",
    "    'KN': KNeighborsClassifier(3),\n",
    "    'SVC': SVC(kernel=\"linear\", C=0.025),\n",
    "    'SVC': SVC(gamma=2, C=1),\n",
    "    'DT': DecisionTreeClassifier(max_depth=5),\n",
    "    'RF': RandomForestClassifier(n_estimators=300),  # clf.feature_importances_\n",
    "    'ET': ExtraTreesClassifier(n_estimators=500, max_depth=None),  # clf.feature_importances_\n",
    "    'AB': AdaBoostClassifier(n_estimators=100),\n",
    "    'GB': GradientBoostingClassifier(n_estimators=100, learning_rate=1.0, max_depth=1, random_state=0), # clf.feature_importances_\n",
    "    'GNB': GaussianNB(),\n",
    "    'LD': LinearDiscriminantAnalysis(),\n",
    "    'QD': QuadraticDiscriminantAnalysis()}\n",
    "\n",
    "    \n",
    "    \n",
    "# X, y = make_blobs(n_samples=10000, n_features=10, centers=100, random_state=0)\n",
    "X, y = data_X,data_y\n",
    "\n",
    "\n",
    "result={}\n",
    "for name, clf in classifiers.items():\n",
    "    scores = cross_val_score(clf, X, y,n_jobs=-1,cv=6)\n",
    "    print(name,'\\t--> ',scores.mean())\n",
    "    result.update( { name:scores.mean()} )\n",
    "\n",
    "re=pd.DataFrame(list(result.values()),index=list(result.keys()),columns=['score'])\n",
    "\n",
    "re=re.sort_values('score',ascending=False)\n",
    "\n",
    "re.iplot(kind='bar')"
   ]
  },
  {
   "cell_type": "code",
   "execution_count": 67,
   "metadata": {
    "collapsed": false,
    "scrolled": false
   },
   "outputs": [
    {
     "data": {
      "text/html": [
       "<iframe id=\"igraph\" scrolling=\"no\" style=\"border:none;\" seamless=\"seamless\" src=\"https://plot.ly/~pjl88209/24.embed\" height=\"525px\" width=\"100%\"></iframe>"
      ],
      "text/plain": [
       "<plotly.tools.PlotlyDisplay object>"
      ]
     },
     "execution_count": 67,
     "metadata": {},
     "output_type": "execute_result"
    }
   ],
   "source": [
    "\n",
    "rf_zl=RandomForestClassifier(n_estimators=500,class_weight={1:6,-1:1})\n",
    "# score_zl=cross_val_score(rf_zl, X, y,n_jobs=-1)\n",
    "\n",
    "\n",
    "rf_zl.fit(data_X,data_y)\n",
    "\n",
    "\n",
    "re2=pd.DataFrame(list(rf_zl.feature_importances_),index=list(data_X.columns),columns=['feature_impotance'])\n",
    "\n",
    "re2=re2.sort_values('feature_impotance',ascending=False)\n",
    "\n",
    "re2.iplot(kind='bar')"
   ]
  },
  {
   "cell_type": "code",
   "execution_count": 68,
   "metadata": {
    "collapsed": false,
    "scrolled": true
   },
   "outputs": [
    {
     "name": "stdout",
     "output_type": "stream",
     "text": [
      "TimeSeriesSplit(n_splits=4)\n",
      "TRAIN: [0 1 2 3] TEST: [4]\n",
      "TRAIN: [0 1 2 3 4] TEST: [5]\n",
      "TRAIN: [0 1 2 3 4 5] TEST: [6]\n",
      "TRAIN: [0 1 2 3 4 5 6] TEST: [7]\n"
     ]
    },
    {
     "data": {
      "text/html": [
       "<div>\n",
       "<table border=\"1\" class=\"dataframe\">\n",
       "  <thead>\n",
       "    <tr style=\"text-align: right;\">\n",
       "      <th></th>\n",
       "      <th>X_1</th>\n",
       "      <th>X_2</th>\n",
       "      <th>y</th>\n",
       "    </tr>\n",
       "  </thead>\n",
       "  <tbody>\n",
       "    <tr>\n",
       "      <th>0</th>\n",
       "      <td>1</td>\n",
       "      <td>2</td>\n",
       "      <td>1</td>\n",
       "    </tr>\n",
       "    <tr>\n",
       "      <th>1</th>\n",
       "      <td>3</td>\n",
       "      <td>4</td>\n",
       "      <td>2</td>\n",
       "    </tr>\n",
       "    <tr>\n",
       "      <th>2</th>\n",
       "      <td>1</td>\n",
       "      <td>2</td>\n",
       "      <td>3</td>\n",
       "    </tr>\n",
       "    <tr>\n",
       "      <th>3</th>\n",
       "      <td>3</td>\n",
       "      <td>4</td>\n",
       "      <td>4</td>\n",
       "    </tr>\n",
       "    <tr>\n",
       "      <th>4</th>\n",
       "      <td>1</td>\n",
       "      <td>2</td>\n",
       "      <td>5</td>\n",
       "    </tr>\n",
       "    <tr>\n",
       "      <th>5</th>\n",
       "      <td>3</td>\n",
       "      <td>4</td>\n",
       "      <td>6</td>\n",
       "    </tr>\n",
       "    <tr>\n",
       "      <th>6</th>\n",
       "      <td>1</td>\n",
       "      <td>2</td>\n",
       "      <td>7</td>\n",
       "    </tr>\n",
       "    <tr>\n",
       "      <th>7</th>\n",
       "      <td>3</td>\n",
       "      <td>4</td>\n",
       "      <td>8</td>\n",
       "    </tr>\n",
       "  </tbody>\n",
       "</table>\n",
       "</div>"
      ],
      "text/plain": [
       "   X_1  X_2  y\n",
       "0    1    2  1\n",
       "1    3    4  2\n",
       "2    1    2  3\n",
       "3    3    4  4\n",
       "4    1    2  5\n",
       "5    3    4  6\n",
       "6    1    2  7\n",
       "7    3    4  8"
      ]
     },
     "execution_count": 68,
     "metadata": {},
     "output_type": "execute_result"
    }
   ],
   "source": [
    "from sklearn.model_selection import TimeSeriesSplit\n",
    "X = np.array([[1, 2], [3, 4], [1, 2], [3, 4],[1, 2], [3, 4], [1, 2], [3, 4]])\n",
    "y = np.array([1, 2, 3, 4,5, 6, 7, 8])\n",
    "tscv = TimeSeriesSplit(n_splits=4)\n",
    "print(tscv)  \n",
    "\n",
    "for train_index, test_index in tscv.split(X):\n",
    "   print(\"TRAIN:\", train_index, \"TEST:\", test_index)\n",
    "   X_train, X_test = X[train_index], X[test_index]\n",
    "   y_train, y_test = y[train_index], y[test_index]\n",
    "\n",
    "pd.DataFrame(X,columns=['X_1','X_2']).join(pd.DataFrame(y,columns=['y']))"
   ]
  },
  {
   "cell_type": "code",
   "execution_count": 69,
   "metadata": {
    "collapsed": false,
    "scrolled": false
   },
   "outputs": [
    {
     "name": "stdout",
     "output_type": "stream",
     "text": [
      "TimeSeriesSplit(n_splits=5)\n",
      "TRAIN: [0 1 2 3 4] TEST: [5 6 7]\n",
      "TRAIN: [3 4 5 6 7] TEST: [ 8  9 10]\n",
      "TRAIN: [ 6  7  8  9 10] TEST: [11 12 13]\n",
      "TRAIN: [ 9 10 11 12 13] TEST: [14 15 16]\n",
      "TRAIN: [12 13 14 15 16] TEST: [17 18 19]\n"
     ]
    }
   ],
   "source": [
    "from sklearn.model_selection import TimeSeriesSplit\n",
    "X = np.linspace(0,19,num=20)*100\n",
    "# X=data_X_y[-20:].copy()\n",
    "# y = np.array([1, 2, 3, 4,5, 6, 7, 8])\n",
    "\n",
    "n_splits=5\n",
    "tscv = TimeSeriesSplit(n_splits=n_splits)\n",
    "print(tscv)  \n",
    "\n",
    "for train_index, test_index in tscv.split(X):\n",
    "    X_train, X_test = X[train_index], X[test_index]\n",
    "    print(\"TRAIN:\", train_index[-n_splits:], \"TEST:\", test_index)\n",
    "#    y_train, y_test = y[train_index], y[test_index]"
   ]
  },
  {
   "cell_type": "code",
   "execution_count": 70,
   "metadata": {
    "collapsed": false,
    "scrolled": false
   },
   "outputs": [
    {
     "name": "stdout",
     "output_type": "stream",
     "text": [
      "TimeSeriesSplit(n_splits=5)\n",
      "TRAIN: [0 1] TEST: [2 3]\n",
      "TRAIN: [0 1 2 3] TEST: [4 5]\n",
      "TRAIN: [1 2 3 4 5] TEST: [6 7]\n",
      "TRAIN: [3 4 5 6 7] TEST: [8 9]\n",
      "TRAIN: [5 6 7 8 9] TEST: [10 11]\n"
     ]
    }
   ],
   "source": [
    "from sklearn.model_selection import TimeSeriesSplit\n",
    "X = np.linspace(0,11,num=12)*100\n",
    "# X=data_X_y[-20:].copy()\n",
    "# y = np.array([1, 2, 3, 4,5, 6, 7, 8])\n",
    "\n",
    "n_splits=5\n",
    "tscv = TimeSeriesSplit(n_splits=n_splits)\n",
    "print(tscv)  \n",
    "\n",
    "for train_index, test_index in tscv.split(X):\n",
    "    X_train, X_test = X[train_index], X[test_index]\n",
    "    print(\"TRAIN:\", train_index[-n_splits:], \"TEST:\", test_index)\n",
    "#    y_train, y_test = y[train_index], y[test_index]"
   ]
  },
  {
   "cell_type": "code",
   "execution_count": 71,
   "metadata": {
    "collapsed": false,
    "scrolled": true
   },
   "outputs": [
    {
     "name": "stdout",
     "output_type": "stream",
     "text": [
      "train=199,test=1\n",
      "recusive time = 1\n"
     ]
    }
   ],
   "source": [
    "# J = np.linspace(0,399,num=400)*100\n",
    "J = data_X[-200:]\n",
    "\n",
    "\n",
    "test_num=1\n",
    "test_num+=1\n",
    "n_splits=int(len(J)/test_num)\n",
    "tscv = TimeSeriesSplit(n_splits=n_splits)\n",
    "\n",
    "n,kk=0,0\n",
    "for i,j  in tscv.split(J):\n",
    "    n+=1\n",
    "    if n<=n_splits-1:\n",
    "        continue\n",
    "    kk+=1\n",
    "    print('train={},test={}'.format(len(i),len(j)))\n",
    "#     print(J.iloc[i],J.iloc[j])\n",
    "\n",
    "    \n",
    "print('recusive time = {}'.format(kk))\n"
   ]
  },
  {
   "cell_type": "code",
   "execution_count": 137,
   "metadata": {
    "collapsed": false,
    "scrolled": false
   },
   "outputs": [
    {
     "name": "stdout",
     "output_type": "stream",
     "text": [
      "class_weight= 1 ,accuracy= 0.8409090909090909\n",
      "class_weight= 2 ,accuracy= 0.75\n",
      "class_weight= 3 ,accuracy= 0.75\n",
      "class_weight= 4 ,accuracy= 0.75\n",
      "class_weight= 5 ,accuracy= 0.7045454545454546\n",
      "class_weight= 6 ,accuracy= 0.7045454545454546\n",
      "class_weight= 7 ,accuracy= 0.6818181818181818\n",
      "class_weight= 8 ,accuracy= 0.6818181818181818\n",
      "class_weight= 9 ,accuracy= 0.7045454545454546\n",
      "class_weight= 10 ,accuracy= 0.6590909090909091\n",
      "class_weight= 11 ,accuracy= 0.6590909090909091\n",
      "class_weight= 12 ,accuracy= 0.6590909090909091\n",
      "class_weight= 13 ,accuracy= 0.6136363636363636\n",
      "class_weight= 14 ,accuracy= 0.6363636363636364\n",
      "class_weight= 15 ,accuracy= 0.6136363636363636\n",
      "class_weight= 16 ,accuracy= 0.5909090909090909\n",
      "class_weight= 17 ,accuracy= 0.5909090909090909\n",
      "class_weight= 18 ,accuracy= 0.5681818181818182\n",
      "class_weight= 19 ,accuracy= 0.5909090909090909\n"
     ]
    },
    {
     "data": {
      "text/html": [
       "<iframe id=\"igraph\" scrolling=\"no\" style=\"border:none;\" seamless=\"seamless\" src=\"https://plot.ly/~pjl88209/26.embed\" height=\"525px\" width=\"100%\"></iframe>"
      ],
      "text/plain": [
       "<plotly.tools.PlotlyDisplay object>"
      ]
     },
     "execution_count": 137,
     "metadata": {},
     "output_type": "execute_result"
    }
   ],
   "source": [
    "acc=pd.DataFrame(columns=['class_weight','accuracy'])\n",
    "\n",
    "for class_weight in range(1,20):\n",
    "    # J = np.linspace(0,399,num=400)*100\n",
    "    J = data_X_y[-200:]\n",
    "\n",
    "\n",
    "    test_num=1\n",
    "    test_num+=1\n",
    "    n_splits=int(len(J)/test_num)\n",
    "    tscv = TimeSeriesSplit(n_splits=n_splits)\n",
    "\n",
    "\n",
    "    rf_zl=RandomForestClassifier(n_estimators=500,class_weight={1:class_weight,-1:1})\n",
    "\n",
    "    n,kk=0,0\n",
    "    test_num_oob=44\n",
    "    summ=0\n",
    "    for i,j  in tscv.split(J):\n",
    "        n+=1\n",
    "        if n<=n_splits-test_num_oob:\n",
    "            continue\n",
    "        kk+=1\n",
    "        train_X,test_X=J.iloc[i].iloc[:,:-2],J.iloc[j].iloc[:,:-2]\n",
    "        train_y,test_y=J.iloc[i].iloc[:,-1],J.iloc[j].iloc[:,-1]\n",
    "        rf_zl.fit(train_X,train_y)\n",
    "        summ+=rf_zl.score(test_X,test_y)\n",
    "    #     print(kk)\n",
    "\n",
    "\n",
    "    #     print('trainx length ={},testx length ={}'.format(len(train_X),len(test_X)))\n",
    "    #     print(train_y)\n",
    "    #     print(test_y)\n",
    "    #     train_y,test_y=\n",
    "    #     rf_zl.fit(train_X,)\n",
    "        accuracy=(summ /test_num_oob)\n",
    "\n",
    "    acc.loc[len(acc)]=[class_weight,accuracy]\n",
    "    print('class_weight= {} ,accuracy= {}'.format(class_weight,summ /test_num_oob))\n",
    "\n",
    "    # print('recursion test time = {}'.format(kk))\n",
    "acc.iplot(kind='bar')"
   ]
  },
  {
   "cell_type": "code",
   "execution_count": 147,
   "metadata": {
    "collapsed": false,
    "scrolled": false
   },
   "outputs": [
    {
     "name": "stdout",
     "output_type": "stream",
     "text": [
      "class_weight= 1 ,accuracy= 0.8863636363636364\n",
      "class_weight= 2 ,accuracy= 0.8636363636363636\n",
      "class_weight= 3 ,accuracy= 0.8636363636363636\n",
      "class_weight= 4 ,accuracy= 0.8636363636363636\n",
      "class_weight= 5 ,accuracy= 0.8636363636363636\n",
      "class_weight= 6 ,accuracy= 0.8181818181818182\n",
      "class_weight= 7 ,accuracy= 0.7727272727272727\n",
      "class_weight= 8 ,accuracy= 0.7727272727272727\n",
      "class_weight= 9 ,accuracy= 0.7727272727272727\n",
      "class_weight= 10 ,accuracy= 0.75\n"
     ]
    },
    {
     "data": {
      "text/html": [
       "<iframe id=\"igraph\" scrolling=\"no\" style=\"border:none;\" seamless=\"seamless\" src=\"https://plot.ly/~pjl88209/30.embed\" height=\"525px\" width=\"100%\"></iframe>"
      ],
      "text/plain": [
       "<plotly.tools.PlotlyDisplay object>"
      ]
     },
     "execution_count": 147,
     "metadata": {},
     "output_type": "execute_result"
    }
   ],
   "source": [
    "acc=pd.DataFrame(columns=['class_weight','accuracy'])\n",
    "\n",
    "for class_weight in range(1,11):\n",
    "    # J = np.linspace(0,399,num=400)*100\n",
    "    J = data_X_y[-200:]\n",
    "\n",
    "\n",
    "    test_num=1\n",
    "    test_num+=1\n",
    "    n_splits=int(len(J)/test_num)\n",
    "    tscv = TimeSeriesSplit(n_splits=n_splits)\n",
    "\n",
    "\n",
    "    rf_zl=RandomForestClassifier(n_estimators=500,class_weight={1:class_weight/5,-1:1})\n",
    "\n",
    "    n,kk=0,0\n",
    "    test_num_oob=44\n",
    "    summ=0\n",
    "    for i,j  in tscv.split(J):\n",
    "        n+=1\n",
    "        if n<=n_splits-test_num_oob:\n",
    "            continue\n",
    "        kk+=1\n",
    "        train_X,test_X=J.iloc[i].iloc[:,:-2],J.iloc[j].iloc[:,:-2]\n",
    "        train_y,test_y=J.iloc[i].iloc[:,-1],J.iloc[j].iloc[:,-1]\n",
    "        rf_zl.fit(train_X,train_y)\n",
    "        summ+=rf_zl.score(test_X,test_y)\n",
    "    #     print(kk)\n",
    "\n",
    "\n",
    "    #     print('trainx length ={},testx length ={}'.format(len(train_X),len(test_X)))\n",
    "    #     print(train_y)\n",
    "    #     print(test_y)\n",
    "    #     train_y,test_y=\n",
    "    #     rf_zl.fit(train_X,)\n",
    "        accuracy=(summ /test_num_oob)\n",
    "\n",
    "    acc.loc[len(acc)]=[class_weight,accuracy]\n",
    "    print('class_weight= {} ,accuracy= {}'.format(class_weight,summ /test_num_oob))\n",
    "\n",
    "    # print('recursion test time = {}'.format(kk))\n",
    "acc=acc.set_index('class_weight')\n",
    "acc.iplot(kind='bar')"
   ]
  },
  {
   "cell_type": "code",
   "execution_count": null,
   "metadata": {
    "collapsed": true
   },
   "outputs": [],
   "source": []
  },
  {
   "cell_type": "code",
   "execution_count": 166,
   "metadata": {
    "collapsed": false,
    "scrolled": true
   },
   "outputs": [
    {
     "data": {
      "text/plain": [
       "[[[[0.75, 0.75, 0.75, 0.75, 0.75, 0.75, 0.75, 0.75, 0.75],\n",
       "   [0.75, 0.75, 0.75, 0.75, 0.75, 0.75, 0.75, 0.75, 0.75],\n",
       "   [0.75, 0.75, 0.75, 0.75, 0.75, 0.75, 0.75, 0.75, 0.75],\n",
       "   [0.75, 0.75, 0.75, 0.75, 0.75, 0.75, 0.75, 0.75, 0.75]],\n",
       "  [[0.75, 0.75, 0.75, 0.75, 0.75, 0.75, 0.75, 0.75, 0.75],\n",
       "   [0.75, 0.75, 0.75, 0.75, 0.75, 0.75, 0.75, 0.75, 0.75],\n",
       "   [0.75, 0.75, 0.75, 0.75, 0.75, 0.75, 0.75, 0.75, 0.75],\n",
       "   [0.75, 0.75, 0.75, 0.75, 0.75, 0.75, 0.75, 0.75, 0.75]],\n",
       "  [[0.75, 0.75, 0.75, 0.75, 0.75, 0.75, 0.75, 0.75, 0.75],\n",
       "   [0.75, 0.75, 0.75, 0.75, 0.75, 0.75, 0.75, 0.75, 0.75],\n",
       "   [0.75, 0.75, 0.75, 0.75, 0.75, 0.75, 0.75, 0.75, 0.75],\n",
       "   [0.75, 0.75, 0.75, 0.75, 0.75, 0.75, 0.75, 0.75, 0.75]],\n",
       "  [[0.75, 0.75, 0.75, 0.75, 0.75, 0.75, 0.75, 0.75, 0.75],\n",
       "   [0.75, 0.75, 0.75, 0.75, 0.75, 0.75, 0.75, 0.75, 0.75],\n",
       "   [0.75, 0.75, 0.75, 0.75, 0.75, 0.75, 0.75, 0.75, 0.75],\n",
       "   [0.75, 0.75, 0.75, 0.75, 0.75, 0.75, 0.75, 0.75, 0.75]]]]"
      ]
     },
     "execution_count": 166,
     "metadata": {},
     "output_type": "execute_result"
    }
   ],
   "source": [
    "acc=pd.DataFrame(columns=['class_weight','accuracy'])\n",
    "# weight_num=[i/10 for i in range(1,10)]\n",
    "weight_num=[1]\n",
    "\n",
    "def select_class_weight(class_weight):\n",
    "    # J = np.linspace(0,399,num=400)*100\n",
    "    J = data_X_y[-200:]\n",
    "    test_num=1\n",
    "    test_num+=1\n",
    "    n_splits=int(len(J)/test_num)\n",
    "    tscv = TimeSeriesSplit(n_splits=n_splits)\n",
    "\n",
    "\n",
    "    rf_zl=RandomForestClassifier(n_estimators=500,class_weight={1:class_weight,-1:1})\n",
    "\n",
    "    n,kk=0,0\n",
    "    test_num_oob=44\n",
    "    summ=0\n",
    "    for i,j  in tscv.split(J):\n",
    "        n+=1\n",
    "        if n<=n_splits-test_num_oob:\n",
    "            continue\n",
    "        kk+=1\n",
    "        train_X,test_X=J.iloc[i].iloc[:,:-2],J.iloc[j].iloc[:,:-2]\n",
    "        train_y,test_y=J.iloc[i].iloc[:,-1],J.iloc[j].iloc[:,-1]\n",
    "        rf_zl.fit(train_X,train_y)\n",
    "        summ+=rf_zl.score(test_X,test_y)\n",
    "    #     print(kk)\n",
    "\n",
    "\n",
    "    #     print('trainx length ={},testx length ={}'.format(len(train_X),len(test_X)))\n",
    "    #     print(train_y)\n",
    "    #     print(test_y)\n",
    "    #     train_y,test_y=\n",
    "    #     rf_zl.fit(train_X,returnurn      accuracy=(summ /test_num_oob)\n",
    "    return accuracy\n",
    "#     acc.loc[len(acc)]=[class_weight,accuracy]\n",
    "#     print('class_weight= {} ,accuracy= {}'.format(class_weight,summ /test_num_oob))\n",
    "\n",
    "    # print('recursion test time = {}'.format(kk))\n",
    "# map(select_class_weight,weight_num) \n",
    "accuracy=[i for i in map(select_class_weight,weight_num)  ]\n",
    "accuracy\n",
    "# acc.iplot(kind='bar')"
   ]
  },
  {
   "cell_type": "code",
   "execution_count": 167,
   "metadata": {
    "collapsed": false
   },
   "outputs": [
    {
     "data": {
      "text/plain": [
       "[1]"
      ]
     },
     "execution_count": 167,
     "metadata": {},
     "output_type": "execute_result"
    }
   ],
   "source": [
    "weight_num"
   ]
  },
  {
   "cell_type": "code",
   "execution_count": 156,
   "metadata": {
    "collapsed": false
   },
   "outputs": [
    {
     "data": {
      "text/plain": [
       "[10.0, 20.0, 30.0, 40.0, 50.0, 60.0, 70.0, 80.0, 90.0]"
      ]
     },
     "execution_count": 156,
     "metadata": {},
     "output_type": "execute_result"
    }
   ],
   "source": [
    "def mu(x):\n",
    "    return x*100\n",
    "weight_num=[i/10 for i in range(1,10)]\n",
    "\n",
    "[i for i in map (mu,weight_num) ]"
   ]
  },
  {
   "cell_type": "code",
   "execution_count": 161,
   "metadata": {
    "collapsed": true
   },
   "outputs": [],
   "source": [
    "mu?"
   ]
  },
  {
   "cell_type": "code",
   "execution_count": 149,
   "metadata": {
    "collapsed": false
   },
   "outputs": [],
   "source": [
    "index_num=[i/10 for i in range(1,10)]"
   ]
  },
  {
   "cell_type": "code",
   "execution_count": 141,
   "metadata": {
    "collapsed": false
   },
   "outputs": [],
   "source": [
    "accx=acc.set_index('class_weight')"
   ]
  },
  {
   "cell_type": "code",
   "execution_count": 143,
   "metadata": {
    "collapsed": false
   },
   "outputs": [
    {
     "data": {
      "text/html": [
       "<iframe id=\"igraph\" scrolling=\"no\" style=\"border:none;\" seamless=\"seamless\" src=\"https://plot.ly/~pjl88209/28.embed\" height=\"525px\" width=\"100%\"></iframe>"
      ],
      "text/plain": [
       "<plotly.tools.PlotlyDisplay object>"
      ]
     },
     "execution_count": 143,
     "metadata": {},
     "output_type": "execute_result"
    }
   ],
   "source": [
    "accx.iplot(kind='bar')"
   ]
  },
  {
   "cell_type": "code",
   "execution_count": 142,
   "metadata": {
    "collapsed": false
   },
   "outputs": [
    {
     "name": "stdout",
     "output_type": "stream",
     "text": [
      "High five! You successfuly sent some data to your account on plotly. View your plot in your browser at https://plot.ly/~pjl88209/0 or inside your plot.ly account where it is named 'Winning'\n"
     ]
    },
    {
     "data": {
      "text/html": [
       "<iframe id=\"igraph\" scrolling=\"no\" style=\"border:none;\" seamless=\"seamless\" src=\"https://plot.ly/~pjl88209/0.embed\" height=\"525px\" width=\"100%\"></iframe>"
      ],
      "text/plain": [
       "<plotly.tools.PlotlyDisplay object>"
      ]
     },
     "execution_count": 142,
     "metadata": {},
     "output_type": "execute_result"
    }
   ],
   "source": [
    "zplot(accx)"
   ]
  },
  {
   "cell_type": "code",
   "execution_count": 73,
   "metadata": {
    "collapsed": false,
    "scrolled": true
   },
   "outputs": [
    {
     "data": {
      "text/plain": [
       "0.7045454545454546"
      ]
     },
     "execution_count": 73,
     "metadata": {},
     "output_type": "execute_result"
    }
   ],
   "source": [
    "0.7045454545454546"
   ]
  },
  {
   "cell_type": "code",
   "execution_count": 138,
   "metadata": {
    "collapsed": false
   },
   "outputs": [
    {
     "data": {
      "text/plain": [
       "[0, 1]"
      ]
     },
     "execution_count": 138,
     "metadata": {},
     "output_type": "execute_result"
    }
   ],
   "source": [
    "[class_weight for class_weight in range(2)]"
   ]
  },
  {
   "cell_type": "code",
   "execution_count": 86,
   "metadata": {
    "collapsed": false
   },
   "outputs": [
    {
     "data": {
      "text/plain": [
       "[1, 2, 3, 4]"
      ]
     },
     "execution_count": 86,
     "metadata": {},
     "output_type": "execute_result"
    }
   ],
   "source": [
    "[x for x in range(1,5)]"
   ]
  },
  {
   "cell_type": "code",
   "execution_count": 129,
   "metadata": {
    "collapsed": true
   },
   "outputs": [],
   "source": [
    "dict_x={1:11,2:22}"
   ]
  },
  {
   "cell_type": "code",
   "execution_count": 96,
   "metadata": {
    "collapsed": false
   },
   "outputs": [
    {
     "data": {
      "text/plain": [
       "[11, 22]"
      ]
     },
     "execution_count": 96,
     "metadata": {},
     "output_type": "execute_result"
    }
   ],
   "source": [
    "list(dict_x.values())"
   ]
  },
  {
   "cell_type": "code",
   "execution_count": 101,
   "metadata": {
    "collapsed": false
   },
   "outputs": [
    {
     "data": {
      "text/plain": [
       "dict_values([11, 22])"
      ]
     },
     "execution_count": 101,
     "metadata": {},
     "output_type": "execute_result"
    }
   ],
   "source": [
    "dict_x.values()"
   ]
  },
  {
   "cell_type": "code",
   "execution_count": null,
   "metadata": {
    "collapsed": true
   },
   "outputs": [],
   "source": []
  }
 ],
 "metadata": {
  "kernelspec": {
   "display_name": "Python 3",
   "language": "python",
   "name": "python3"
  },
  "language_info": {
   "codemirror_mode": {
    "name": "ipython",
    "version": 3
   },
   "file_extension": ".py",
   "mimetype": "text/x-python",
   "name": "python",
   "nbconvert_exporter": "python",
   "pygments_lexer": "ipython3",
   "version": "3.4.5"
  }
 },
 "nbformat": 4,
 "nbformat_minor": 2
}
